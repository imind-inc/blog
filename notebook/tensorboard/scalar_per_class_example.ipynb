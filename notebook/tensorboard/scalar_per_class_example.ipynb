{
 "cells": [
  {
   "cell_type": "markdown",
   "metadata": {},
   "source": [
    "## TensorBoardサンプルコード\n",
    "\n",
    "* tensorflow==1.13.1\n",
    "\n",
    "on_epoch_endイベント時にTensorBoardにクラスごとのprecision, recall, f1-scoreを出力する。\n",
    "\n",
    "### 簡易なモデルを記述（fashion-mnist）"
   ]
  },
  {
   "cell_type": "code",
   "execution_count": 2,
   "metadata": {},
   "outputs": [],
   "source": [
    "import datetime\n",
    "import numpy as np\n",
    "\n",
    "import tensorflow as tf\n",
    "from tensorflow import keras\n",
    "from sklearn import model_selection\n",
    "from tensorflow.keras import layers\n",
    "\n",
    "# データの用意\n",
    "fashion_mnist = keras.datasets.fashion_mnist\n",
    "(train_images, train_labels), (test_images, test_labels) = fashion_mnist.load_data()\n",
    "train_images = train_images / 255.0\n",
    "test_images = test_images / 255.0\n",
    "\n",
    "# testデータの1/10をvalidationデータに使う\n",
    "test_images, val_images, test_labels, val_labels = model_selection.train_test_split(\n",
    "    test_images, test_labels, test_size=0.1, stratify=test_labels)\n",
    "\n",
    "# 単純な推定器\n",
    "model = tf.keras.Sequential([\n",
    "    layers.Flatten(input_shape=(28, 28)),\n",
    "    layers.Dense(128, activation='relu'),\n",
    "    layers.Dense(10, activation='softmax')\n",
    "])\n",
    "\n",
    "model.compile(optimizer='adam',\n",
    "              loss='sparse_categorical_crossentropy',\n",
    "             metrics=['accuracy'])"
   ]
  },
  {
   "cell_type": "markdown",
   "metadata": {},
   "source": [
    "## ラベル一覧"
   ]
  },
  {
   "cell_type": "code",
   "execution_count": 3,
   "metadata": {},
   "outputs": [],
   "source": [
    "LABELS = [\n",
    "    'T-shirt/top',\n",
    "    'Trouser',\n",
    "    'Pullover',\n",
    "    'Dress',\n",
    "    'Coat',\n",
    "    'Sandal',\n",
    "    'Shirt',\n",
    "    'Sneaker',\n",
    "    'Bag',\n",
    "    'Ankle boot',\n",
    "]"
   ]
  },
  {
   "cell_type": "markdown",
   "metadata": {},
   "source": [
    "## callbacksの記述\n",
    "\n",
    "tf.keras.callbacks.TensorBoard を継承して on_epoch_end 時にsummaryに書き込む処理を実行する。"
   ]
  },
  {
   "cell_type": "code",
   "execution_count": 4,
   "metadata": {},
   "outputs": [],
   "source": [
    "from sklearn.metrics import classification_report\n",
    "from sklearn.metrics import confusion_matrix\n",
    "\n",
    "class MyCallback(tf.keras.callbacks.TensorBoard):\n",
    "    \n",
    "    def __init__(self, test_images, test_labels, **kwargs):\n",
    "        super().__init__(**kwargs)\n",
    "        self.test_images = test_images\n",
    "        self.test_labels = test_labels\n",
    "\n",
    "    def on_epoch_end(self, epoch, logs={}):\n",
    "        super().on_epoch_end(epoch, logs)\n",
    "\n",
    "        # predict実行\n",
    "        y_pred = np.argmax(model.predict(test_images), axis=1).astype(np.int8)\n",
    "        \n",
    "        # precision/recall/f-score取得\n",
    "        report = classification_report(test_labels, y_pred, output_dict=True)\n",
    "\n",
    "        # 指定指標のValuesを生成\n",
    "        def get_values(key):\n",
    "            return np.array([tf.Summary.Value(\n",
    "                tag='%s/%s' % (key, LABELS[label]),\n",
    "                simple_value=report[str(label)][key])\n",
    "            for label in range(10)])\n",
    "        \n",
    "        values = np.array([\n",
    "            get_values('precision'), \n",
    "            get_values('recall'),\n",
    "            get_values('f1-score'),\n",
    "        ]).flatten()\n",
    "        \n",
    "        # summaryの設定\n",
    "        summary = tf.Summary(value=values)\n",
    "        self.writer.add_summary(summary, epoch)"
   ]
  },
  {
   "cell_type": "markdown",
   "metadata": {},
   "source": [
    "## callbacksを指定してfit\n",
    "\n",
    "自作のcallbackを指定してfitを実行。"
   ]
  },
  {
   "cell_type": "code",
   "execution_count": null,
   "metadata": {
    "scrolled": true
   },
   "outputs": [],
   "source": [
    "my_callback = MyCallback(\n",
    "    test_images, test_labels,\n",
    "    log_dir='logs')\n",
    "\n",
    "model.fit(\n",
    "    train_images,\n",
    "    train_labels,\n",
    "    epochs=50,\n",
    "    callbacks=[my_callback])"
   ]
  }
 ],
 "metadata": {
  "kernelspec": {
   "display_name": "Python 3",
   "language": "python",
   "name": "python3"
  },
  "language_info": {
   "codemirror_mode": {
    "name": "ipython",
    "version": 3
   },
   "file_extension": ".py",
   "mimetype": "text/x-python",
   "name": "python",
   "nbconvert_exporter": "python",
   "pygments_lexer": "ipython3",
   "version": "3.7.3"
  }
 },
 "nbformat": 4,
 "nbformat_minor": 2
}
