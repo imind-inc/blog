{
 "cells": [
  {
   "cell_type": "markdown",
   "metadata": {},
   "source": [
    "## TensorBoardサンプルコード\n",
    "\n",
    "* tensorflow==1.13.1\n",
    "\n",
    "on_epoch_endイベント時にTensorBoardに画像を表示する。\n",
    "\n",
    "### 簡易なモデルを記述（fashion-mnist）"
   ]
  },
  {
   "cell_type": "code",
   "execution_count": 2,
   "metadata": {},
   "outputs": [],
   "source": [
    "import datetime\n",
    "import numpy as np\n",
    "\n",
    "import tensorflow as tf\n",
    "from tensorflow import keras\n",
    "from sklearn import model_selection\n",
    "from tensorflow.keras import layers\n",
    "\n",
    "# データの用意\n",
    "fashion_mnist = keras.datasets.fashion_mnist\n",
    "(train_images, train_labels), (test_images, test_labels) = fashion_mnist.load_data()\n",
    "train_images = train_images / 255.0\n",
    "test_images = test_images / 255.0\n",
    "\n",
    "# testデータの1/10をvalidationデータに使う\n",
    "test_images, val_images, test_labels, val_labels = model_selection.train_test_split(\n",
    "    test_images, test_labels, test_size=0.1, stratify=test_labels)\n",
    "\n",
    "# 単純な推定器\n",
    "model = tf.keras.Sequential([\n",
    "    layers.Flatten(input_shape=(28, 28)),\n",
    "    layers.Dense(128, activation='relu'),\n",
    "    layers.Dense(10, activation='softmax')\n",
    "])\n",
    "\n",
    "model.compile(optimizer='adam',\n",
    "              loss='sparse_categorical_crossentropy',\n",
    "             metrics=['accuracy'])"
   ]
  },
  {
   "cell_type": "markdown",
   "metadata": {},
   "source": [
    "## ラベル一覧"
   ]
  },
  {
   "cell_type": "code",
   "execution_count": 3,
   "metadata": {},
   "outputs": [],
   "source": [
    "LABELS = [\n",
    "    'T-shirt/top',\n",
    "    'Trouser',\n",
    "    'Pullover',\n",
    "    'Dress',\n",
    "    'Coat',\n",
    "    'Sandal',\n",
    "    'Shirt',\n",
    "    'Sneaker',\n",
    "    'Bag',\n",
    "    'Ankle boot',\n",
    "]"
   ]
  },
  {
   "cell_type": "markdown",
   "metadata": {},
   "source": [
    "### 利用可能なフォント一覧を出力するコード"
   ]
  },
  {
   "cell_type": "code",
   "execution_count": null,
   "metadata": {},
   "outputs": [],
   "source": [
    "import matplotlib.font_manager\n",
    "matplotlib.font_manager.findSystemFonts(fontpaths=None, fontext='ttf')"
   ]
  },
  {
   "cell_type": "markdown",
   "metadata": {},
   "source": [
    "### 画像を出力する\n",
    "\n",
    "on_epoch_end で画像を出力してみる。\n",
    "\n",
    "画像の変換については下記を参照した。\n",
    "\n",
    "https://github.com/tensorflow/models/blob/v1.13.0/research/object_detection/utils/visualization_utils.py#L80"
   ]
  },
  {
   "cell_type": "code",
   "execution_count": 4,
   "metadata": {},
   "outputs": [],
   "source": [
    "from  PIL import Image, ImageDraw, ImageFont\n",
    "import six\n",
    "\n",
    "# フォントの指定\n",
    "font = ImageFont.truetype(\"NotoSansCJK-Bold.ttc\", 24)\n",
    "\n",
    "class MyCallback(tf.keras.callbacks.TensorBoard):\n",
    "    \n",
    "    def __init__(self, val_images, val_labels, **kwargs):\n",
    "        super().__init__(**kwargs)\n",
    "        self.val_images = val_images\n",
    "        self.val_labels = val_labels\n",
    "    \n",
    "    def encode_image_array_as_png_str(self, image, pred, label):\n",
    "        # 画像をPillowのImageに変換\n",
    "        # 画像に文字を書込む為にサイズを増やしてRGBに\n",
    "        image = Image.fromarray(np.uint8(image)) \\\n",
    "            .resize((256, 256)).convert('RGB')\n",
    "        # 画面下部に赤文字でpred, labelを表示\n",
    "        message = \"P=%s\\nL=%s\" % (LABELS[pred], LABELS[label])\n",
    "        draw = ImageDraw.Draw(image)\n",
    "        draw.text((20, 180), message, (255, 0, 0), font=font)\n",
    "        # Valueに指定できるよう形式を変換\n",
    "        with six.BytesIO() as output:\n",
    "            image.save(output, format='PNG')\n",
    "            png_string = output.getvalue()\n",
    "        return png_string\n",
    "\n",
    "    def on_epoch_end(self, epoch, logs={}):\n",
    "        super().on_epoch_end(epoch, logs)\n",
    "\n",
    "        # predict実行\n",
    "        y_pred = np.argmax(model.predict(test_images), axis=1).astype(np.int8)\n",
    "        \n",
    "        # 画像の設定\n",
    "        random_index = np.random.randint(0, len(test_labels), size=10)\n",
    "        def get_image_value(i):\n",
    "            label = test_labels[i]\n",
    "            pred = y_pred[i]\n",
    "            image = test_images[i] * 255\n",
    "            image_str = self.encode_image_array_as_png_str(image, label, pred)\n",
    "            img_summary = tf.Summary.Image(encoded_image_string=image_str)\n",
    "            return tf.Summary.Value(tag='image/%d' % i, image=img_summary)\n",
    "        img_values = [get_image_value(i) for i in random_index]\n",
    "\n",
    "        summary = tf.Summary(value=img_values)\n",
    "        self.writer.add_summary(summary, epoch)\n",
    "        self.writer.flush()"
   ]
  },
  {
   "cell_type": "code",
   "execution_count": 4,
   "metadata": {
    "scrolled": true
   },
   "outputs": [
    {
     "name": "stdout",
     "output_type": "stream",
     "text": [
      "Epoch 1/10\n",
      "60000/60000 [==============================] - 5s 81us/sample - loss: 0.5033 - acc: 0.8228\n",
      "Epoch 2/10\n",
      "60000/60000 [==============================] - 5s 79us/sample - loss: 0.3794 - acc: 0.8629\n",
      "Epoch 3/10\n",
      "60000/60000 [==============================] - 5s 81us/sample - loss: 0.3402 - acc: 0.8766\n",
      "Epoch 4/10\n",
      "60000/60000 [==============================] - 5s 78us/sample - loss: 0.3161 - acc: 0.8847\n",
      "Epoch 5/10\n",
      "60000/60000 [==============================] - 5s 77us/sample - loss: 0.2997 - acc: 0.8900\n",
      "Epoch 6/10\n",
      "60000/60000 [==============================] - 5s 77us/sample - loss: 0.2828 - acc: 0.8955\n",
      "Epoch 7/10\n",
      "60000/60000 [==============================] - 5s 77us/sample - loss: 0.2690 - acc: 0.8997\n",
      "Epoch 8/10\n",
      "60000/60000 [==============================] - 5s 78us/sample - loss: 0.2589 - acc: 0.9040\n",
      "Epoch 9/10\n",
      "60000/60000 [==============================] - 5s 78us/sample - loss: 0.2489 - acc: 0.9071\n",
      "Epoch 10/10\n",
      "60000/60000 [==============================] - 5s 78us/sample - loss: 0.2411 - acc: 0.9096\n"
     ]
    },
    {
     "data": {
      "text/plain": [
       "<tensorflow.python.keras.callbacks.History at 0x7f614fa8ea90>"
      ]
     },
     "execution_count": 4,
     "metadata": {},
     "output_type": "execute_result"
    }
   ],
   "source": [
    "my_callback = MyCallback(\n",
    "    val_images, val_labels,\n",
    "    log_dir='logs')\n",
    "\n",
    "model.fit(\n",
    "    train_images,\n",
    "    train_labels,\n",
    "    epochs=10,\n",
    "    callbacks=[my_callback])"
   ]
  }
 ],
 "metadata": {
  "kernelspec": {
   "display_name": "Python 3",
   "language": "python",
   "name": "python3"
  },
  "language_info": {
   "codemirror_mode": {
    "name": "ipython",
    "version": 3
   },
   "file_extension": ".py",
   "mimetype": "text/x-python",
   "name": "python",
   "nbconvert_exporter": "python",
   "pygments_lexer": "ipython3",
   "version": "3.7.3"
  }
 },
 "nbformat": 4,
 "nbformat_minor": 2
}
